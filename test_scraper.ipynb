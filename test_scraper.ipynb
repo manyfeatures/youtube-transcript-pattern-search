{
 "cells": [
  {
   "cell_type": "code",
   "execution_count": 1,
   "id": "1ebc1ea9-d049-4b6d-b6ad-0bb675f4ee97",
   "metadata": {},
   "outputs": [],
   "source": [
    "from bs4 import BeautifulSoup\n",
    "import requests"
   ]
  },
  {
   "cell_type": "code",
   "execution_count": 14,
   "id": "8f989a24-e48d-492a-b686-4ba1a5c2b083",
   "metadata": {},
   "outputs": [],
   "source": [
    "def download_data(url, proxy=None):\n",
    "    headers = {\n",
    "        \"User-Agent\": \"Mozilla/5.0 (Windows NT 10.0; Win64; x64; rv:79.0) Gecko/20100101 Firefox/79.0\",\n",
    "        \"Accept\": \"*/*\",\n",
    "        \"Accept-Language\": \"ru-RU,ru;q=0.8,en-US;q=0.5,en;q=0.3\",\n",
    "        \"Accept-Encoding\": \"gzip, deflate, br\"}\n",
    "\n",
    "    s = requests.Session()\n",
    "    page = s.get(url,\n",
    "                 headers=headers,\n",
    "                 proxies={\"http\": proxy, \"https\": proxy}, stream=True\n",
    "                )\n",
    "    # Stream=True => In chunked transfer encoding, the data stream is divided into a series of non-overlapping \"chunks\". The chunks are sent out independently of one another by the server. Hope this answers the question.\n",
    "#     if page.status_code == 429:\n",
    "#         print(\"Blocked due to many requests\")\n",
    "#     if page.status_code == 403:\n",
    "#         raise Exception(\"Url is forbidden\")\n",
    "\n",
    "    soup = BeautifulSoup(page.content, 'html.parser')\n",
    "    return soup"
   ]
  },
  {
   "cell_type": "code",
   "execution_count": 15,
   "id": "7612dc46",
   "metadata": {},
   "outputs": [],
   "source": [
    "page = download_data(\"https://www.youtube.com/watch?v=8kEOoLomYzA\")"
   ]
  },
  {
   "cell_type": "code",
   "execution_count": 446,
   "id": "e225c1f6",
   "metadata": {},
   "outputs": [
    {
     "ename": "NameError",
     "evalue": "name 'page' is not defined",
     "output_type": "error",
     "traceback": [
      "\u001b[0;31m---------------------------------------------------------------------------\u001b[0m",
      "\u001b[0;31mNameError\u001b[0m                                 Traceback (most recent call last)",
      "\u001b[0;32m/tmp/ipykernel_1120332/4276768656.py\u001b[0m in \u001b[0;36m<module>\u001b[0;34m\u001b[0m\n\u001b[0;32m----> 1\u001b[0;31m \u001b[0mprint\u001b[0m\u001b[0;34m(\u001b[0m\u001b[0mpage\u001b[0m\u001b[0;34m.\u001b[0m\u001b[0mprettify\u001b[0m\u001b[0;34m(\u001b[0m\u001b[0;34m)\u001b[0m\u001b[0;34m)\u001b[0m\u001b[0;34m\u001b[0m\u001b[0;34m\u001b[0m\u001b[0m\n\u001b[0m",
      "\u001b[0;31mNameError\u001b[0m: name 'page' is not defined"
     ]
    }
   ],
   "source": [
    "print(page.prettify())"
   ]
  },
  {
   "cell_type": "markdown",
   "id": "b5cc2303",
   "metadata": {},
   "source": [
    "# Selenium"
   ]
  },
  {
   "cell_type": "code",
   "execution_count": 1,
   "id": "3ef4f2be",
   "metadata": {},
   "outputs": [],
   "source": [
    "from selenium import webdriver\n",
    "from selenium.webdriver.firefox.service import Service\n",
    "from selenium.webdriver.firefox.options import Options\n",
    "from selenium.webdriver.support.ui import WebDriverWait\n",
    "from selenium.webdriver.support import expected_conditions as EC\n",
    "from selenium.webdriver.common.by import By"
   ]
  },
  {
   "cell_type": "code",
   "execution_count": 2,
   "id": "b843d792",
   "metadata": {},
   "outputs": [],
   "source": [
    "options = Options()\n",
    "options.add_argument(\"--headless\")"
   ]
  },
  {
   "cell_type": "code",
   "execution_count": 3,
   "id": "43e9dcf0",
   "metadata": {},
   "outputs": [],
   "source": [
    "service = Service(executable_path=\"./geckodriver\")\n",
    "driver = webdriver.Firefox(service=service, options=None)"
   ]
  },
  {
   "cell_type": "code",
   "execution_count": 4,
   "id": "e4946a1b",
   "metadata": {},
   "outputs": [],
   "source": [
    "driver.get(\"https://www.youtube.com/watch?v=8kEOoLomYzA\")"
   ]
  },
  {
   "cell_type": "markdown",
   "id": "1384cdcd",
   "metadata": {},
   "source": [
    "# get all sentences "
   ]
  },
  {
   "cell_type": "code",
   "execution_count": 283,
   "id": "8884a14f",
   "metadata": {},
   "outputs": [
    {
     "name": "stderr",
     "output_type": "stream",
     "text": [
      "/tmp/ipykernel_1120332/3729645192.py:3: DeprecationWarning: find_element_by_css_selector is deprecated. Please use find_element(by=By.CSS_SELECTOR, value=css_selector) instead\n",
      "  button = driver.find_element_by_css_selector(url)\n"
     ]
    }
   ],
   "source": [
    "#url = \"ytd-menu-service-item-renderer.style-scope:nth-child(2) > tp-yt-paper-item:nth-child(1) > yt-formatted-string:nth-child(2)\"\n",
    "url = \"ytd-menu-renderer.ytd-video-primary-info-renderer > yt-icon-button:nth-child(3) > button:nth-child(1)\"\n",
    "button = driver.find_element_by_css_selector(url)"
   ]
  },
  {
   "cell_type": "code",
   "execution_count": 284,
   "id": "6ce958d1",
   "metadata": {},
   "outputs": [],
   "source": [
    "button.click()"
   ]
  },
  {
   "cell_type": "markdown",
   "id": "7167b404",
   "metadata": {},
   "source": [
    "hidden buttion"
   ]
  },
  {
   "cell_type": "code",
   "execution_count": 285,
   "id": "f5ed7189",
   "metadata": {},
   "outputs": [
    {
     "name": "stderr",
     "output_type": "stream",
     "text": [
      "/tmp/ipykernel_1120332/876996630.py:2: DeprecationWarning: find_element_by_css_selector is deprecated. Please use find_element(by=By.CSS_SELECTOR, value=css_selector) instead\n",
      "  button = driver.find_element_by_css_selector(url)\n"
     ]
    }
   ],
   "source": [
    "url = \"ytd-menu-service-item-renderer.style-scope:nth-child(2) > tp-yt-paper-item:nth-child(1) > yt-formatted-string:nth-child(2)\"\n",
    "button = driver.find_element_by_css_selector(url)"
   ]
  },
  {
   "cell_type": "code",
   "execution_count": 286,
   "id": "46b912f9",
   "metadata": {},
   "outputs": [],
   "source": [
    "button.click()"
   ]
  },
  {
   "cell_type": "code",
   "execution_count": 287,
   "id": "47f2ca89",
   "metadata": {},
   "outputs": [
    {
     "name": "stderr",
     "output_type": "stream",
     "text": [
      "/tmp/ipykernel_1120332/1986423723.py:2: DeprecationWarning: find_element_by_css_selector is deprecated. Please use find_element(by=By.CSS_SELECTOR, value=css_selector) instead\n",
      "  transcript = driver.find_element_by_css_selector(css_selector)\n"
     ]
    }
   ],
   "source": [
    "css_selector = \"html body ytd-app div#content.style-scope.ytd-app ytd-page-manager#page-manager.style-scope.ytd-app ytd-watch-flexy.style-scope.ytd-page-manager.hide-skeleton div#columns.style-scope.ytd-watch-flexy div#secondary.style-scope.ytd-watch-flexy div#secondary-inner.style-scope.ytd-watch-flexy div#panels.style-scope.ytd-watch-flexy ytd-engagement-panel-section-list-renderer.style-scope.ytd-watch-flexy\"\n",
    "transcript = driver.find_element_by_css_selector(css_selector)"
   ]
  },
  {
   "cell_type": "code",
   "execution_count": 288,
   "id": "8b222d68",
   "metadata": {},
   "outputs": [],
   "source": [
    "#xpath = \"/html/body/ytd-app/div[1]/ytd-page-manager/ytd-watch-flexy/div[5]/div[2]/div/div[1]/ytd-engagement-panel-section-list-renderer[4]/div[2]/ytd-transcript-renderer/div[2]/ytd-transcript-search-panel-renderer/div[2]/ytd-transcript-segment-list-renderer/div[1]/ytd-transcript-segment-renderer\"\n",
    "# short version\n",
    "xpath = \"//div[contains(@class, 'segment style-scope ytd-transcript-segment-renderer')]\"\n",
    "teams = WebDriverWait(driver, 10).until(EC.presence_of_all_elements_located((By.XPATH, xpath)))"
   ]
  },
  {
   "cell_type": "code",
   "execution_count": 289,
   "id": "89617bf1",
   "metadata": {},
   "outputs": [],
   "source": [
    "all_text = []\n",
    "for x in teams:\n",
    "    all_text.append(x.text.split('\\n')[1])\n",
    "    #break"
   ]
  },
  {
   "cell_type": "code",
   "execution_count": 290,
   "id": "52ccd8cf",
   "metadata": {},
   "outputs": [],
   "source": [
    "#all_text = \" \".join(all_text)"
   ]
  },
  {
   "cell_type": "code",
   "execution_count": 291,
   "id": "421bd891",
   "metadata": {},
   "outputs": [
    {
     "name": "stdout",
     "output_type": "stream",
     "text": [
      "[(' хуйню ', (20, 27))]\n",
      "[(' хуйню ', (6, 13))]\n",
      "[(' нахуй ', (14, 21))]\n",
      "[(' хуй ', (19, 24))]\n",
      "[(' нюху ', (13, 19))]\n",
      "[(' нахуй ', (12, 19))]\n",
      "[(' хуячить ', (19, 28))]\n",
      "[(' хуйню ', (16, 23))]\n",
      "[(' нахуя ', (21, 28))]\n",
      "[(' нахуй ', (9, 16))]\n",
      "[(' нахуй ', (6, 13))]\n",
      "[(' ахуенно ', (26, 35))]\n",
      "[(' худший ', (7, 15))]\n",
      "[(' хуже ', (24, 30))]\n",
      "[(' хуйнёй ', (26, 34))]\n"
     ]
    }
   ],
   "source": [
    "import re\n",
    "for text in all_text:\n",
    "    res = [(x.group(0), x.span()) for x in list(re.finditer(\"\\s(\\w+)?ху(\\w*)?\\s\", text))]\n",
    "    if res:\n",
    "        print(res)"
   ]
  },
  {
   "cell_type": "markdown",
   "id": "985119a3",
   "metadata": {},
   "source": [
    "# single example"
   ]
  },
  {
   "cell_type": "code",
   "execution_count": 102,
   "id": "46af8cff",
   "metadata": {},
   "outputs": [
    {
     "name": "stderr",
     "output_type": "stream",
     "text": [
      "/tmp/ipykernel_1120332/1599345750.py:2: DeprecationWarning: find_element_by_xpath is deprecated. Please use find_element(by=By.XPATH, value=xpath) instead\n",
      "  descr = transcript.find_element_by_xpath(xpath)\n"
     ]
    }
   ],
   "source": [
    "xpath = '/html/body/ytd-app/div[1]/ytd-page-manager/ytd-watch-flexy/div[5]/div[2]/div/div[1]/ytd-engagement-panel-section-list-renderer[4]/div[2]/ytd-transcript-renderer/div[2]/ytd-transcript-search-panel-renderer/div[2]/ytd-transcript-segment-list-renderer/div[1]/ytd-transcript-segment-renderer[1]/div'\n",
    "descr = transcript.find_element_by_xpath(xpath)"
   ]
  },
  {
   "cell_type": "code",
   "execution_count": 106,
   "id": "9cba756c",
   "metadata": {},
   "outputs": [
    {
     "data": {
      "text/plain": [
       "'0:00\\nпринципе можно конечно'"
      ]
     },
     "execution_count": 106,
     "metadata": {},
     "output_type": "execute_result"
    }
   ],
   "source": [
    "descr.text"
   ]
  },
  {
   "cell_type": "markdown",
   "id": "c7a63233",
   "metadata": {},
   "source": [
    "# get all videos from the channel "
   ]
  },
  {
   "cell_type": "code",
   "execution_count": 8,
   "id": "83e2e5af",
   "metadata": {},
   "outputs": [],
   "source": [
    "driver.get(\"https://www.youtube.com/c/MadHighlights/videos\")"
   ]
  },
  {
   "cell_type": "code",
   "execution_count": 83,
   "id": "d9e43ae7",
   "metadata": {},
   "outputs": [
    {
     "name": "stderr",
     "output_type": "stream",
     "text": [
      "/tmp/ipykernel_13409/915433493.py:5: DeprecationWarning: find_elements_by_xpath is deprecated. Please use find_elements(by=By.XPATH, value=xpath) instead\n",
      "  video_preview = driver.find_elements_by_xpath(xpath)\n"
     ]
    }
   ],
   "source": [
    "# test\n",
    "xpath = '/html/body/ytd-app/div[1]/ytd-page-manager/ytd-browse/ytd-two-column-browse-results-renderer/div[1]/ytd-section-list-renderer/div[2]/ytd-item-section-renderer/div[3]/ytd-grid-renderer/div[1]/ytd-grid-video-renderer'\n",
    "#xpath = '//*[@id=\"dismissible\"]'\n",
    "#xpath = '//div[contains(@class,\"stroke style-scope yt-interaction\")]'\n",
    "video_preview = driver.find_elements_by_xpath(xpath)"
   ]
  },
  {
   "cell_type": "code",
   "execution_count": 92,
   "id": "b4ba4605",
   "metadata": {},
   "outputs": [
    {
     "data": {
      "text/plain": [
       "30"
      ]
     },
     "execution_count": 92,
     "metadata": {},
     "output_type": "execute_result"
    }
   ],
   "source": [
    "len(video_preview)"
   ]
  },
  {
   "cell_type": "code",
   "execution_count": 97,
   "id": "494d9b09",
   "metadata": {},
   "outputs": [
    {
     "name": "stderr",
     "output_type": "stream",
     "text": [
      "/tmp/ipykernel_13409/3469597454.py:2: DeprecationWarning: find_elements_by_id is deprecated. Please use find_elements(by=By.ID, value=id_) instead\n",
      "  link = x.find_elements_by_id('video-title')\n"
     ]
    },
    {
     "name": "stdout",
     "output_type": "stream",
     "text": [
      "45:23\n",
      "Мэддисон катает шары в Elden Ring\n",
      "33K views\n",
      "6 hours ago https://www.youtube.com/watch?v=0iydsNVpqX0\n",
      "29:15\n",
      "Мэддисона забуллил взбесившийся волк в Elden Ring\n",
      "140K views\n",
      "6 days ago https://www.youtube.com/watch?v=8kEOoLomYzA\n",
      "35:19\n",
      "Мэддисон и очередной дед в Elden Ring\n",
      "142K views\n",
      "7 days ago https://www.youtube.com/watch?v=GlfZmcvRR7k\n",
      "30:22\n",
      "Мэддисон и дед номер два в Elden ring\n",
      "141K views\n",
      "9 days ago https://www.youtube.com/watch?v=aKerGDE5OTM\n",
      "34:43\n",
      "Мэддисон и его первый дед в Elden Ring\n",
      "186K views\n",
      "10 days ago https://www.youtube.com/watch?v=xWlj29Aa20s\n",
      "39:24\n",
      "Мэддисон и Welovegames отмечают десятилетие Warface\n",
      "139K views\n",
      "2 weeks ago https://www.youtube.com/watch?v=hDk5ulqy4V0\n",
      "38:16\n",
      "Мэддисон играет в Макса Пейна НА РУЛЕ\n",
      "282K views\n",
      "4 weeks ago https://www.youtube.com/watch?v=4CsK9a-2Y38\n",
      "1:15:09\n",
      "Мэддисон играет в Lost Ark и прощается с Твичем\n",
      "193K views\n",
      "1 month ago https://www.youtube.com/watch?v=wWTp4TkPF2s\n",
      "42:01\n",
      "Мэддисон нашел персонажа которого озвучил в Lost Ark\n",
      "154K views\n",
      "1 month ago https://www.youtube.com/watch?v=Fb4krKgBzwU\n",
      "1:06:09\n",
      "Мэддисон смотрит Музыкальный Ринг (Круг vs Трофим ), Шоу Окна, и пробует уральский майонез\n",
      "248K views\n",
      "1 month ago https://www.youtube.com/watch?v=IB3PZ0si_8I\n",
      "43:35\n",
      "Мэддисон играет в божественный Lost Ark и открывает собственный бар\n",
      "142K views\n",
      "1 month ago https://www.youtube.com/watch?v=x_uPR0e6MR8\n",
      "51:17\n",
      "Мэддисон и актуальные темы новой реальности /madcast\n",
      "324K views\n",
      "1 month ago https://www.youtube.com/watch?v=gRHFnysiaqc\n",
      "37:18\n",
      "Мэддисон играет в Ведьмака с плохими выборами #3\n",
      "118K views\n",
      "1 month ago https://www.youtube.com/watch?v=BDev2U3kPnI\n",
      "21:28\n",
      "Мэддисон играет в Warface и показывает кошку\n",
      "137K views\n",
      "1 month ago https://www.youtube.com/watch?v=Bfx-eswUtYY\n",
      "39:12\n",
      "Мэддисон играет в Ведьмака и ищет жену с иностранным гражданством\n",
      "206K views\n",
      "1 month ago https://www.youtube.com/watch?v=o77uAWMdrCc\n",
      "43:32\n",
      "Хайлайт по Ведьмаку и подкаст по текущей ситуации\n",
      "283K views\n",
      "1 month ago https://www.youtube.com/watch?v=MzcWtpNVp7Q\n",
      "23:19\n",
      "Мэдддисон зарабатывает социальные кредиты в игре Warm Snow\n",
      "142K views\n",
      "2 months ago https://www.youtube.com/watch?v=adBU8Ow9K0Q\n",
      "37:20\n",
      "Мэддисона удивила Horizon Forbidden West\n",
      "225K views\n",
      "2 months ago https://www.youtube.com/watch?v=1PCeaPnQJIU\n",
      "31:56\n",
      "Мэддисон смотрит что изменилось в патче 1.5 Cyberpunk 2077 PS5\n",
      "272K views\n",
      "2 months ago https://www.youtube.com/watch?v=frjDQsBdvkQ\n",
      "54:19\n",
      "Мэддисон начинает приключения в игре похожей на Mass Effect 2\n",
      "181K views\n",
      "2 months ago https://www.youtube.com/watch?v=JZkdQyDkLXo\n",
      "23:09\n",
      "Мэддисон вспоминает как тащить в Dota 2\n",
      "184K views\n",
      "2 months ago https://www.youtube.com/watch?v=qDsRrJ3XLMs\n",
      "33:42\n",
      "Мэддисон и братва рофлят в Своей игре\n",
      "176K views\n",
      "2 months ago https://www.youtube.com/watch?v=C3PDCx6kgUw\n",
      "34:55\n",
      "Мэддисона затоптали гигапетухи в LOST ARK\n",
      "152K views\n",
      "2 months ago https://www.youtube.com/watch?v=Fsyfn5eiEnI\n",
      "1:13:38\n",
      "Мэддисон про Некоглая, спортивные скандалы и многое другое /madcast\n",
      "205K views\n",
      "2 months ago https://www.youtube.com/watch?v=7DqIDTwveYY\n",
      "26:42\n",
      "Мэддисон играет в Футбольного Русского, ATOM RPG, и объявляет год платин\n",
      "180K views\n",
      "3 months ago https://www.youtube.com/watch?v=cDtKDIfohgI\n",
      "43:55\n",
      "Мэддисон заценил Dying Light 2: Stay Human\n",
      "267K views\n",
      "3 months ago https://www.youtube.com/watch?v=IqVzy8jO1OI\n",
      "45:34\n",
      "Мэддисон бродит по Нью Вегасу и болтает с чатом за жизнь #2\n",
      "190K views\n",
      "3 months ago https://www.youtube.com/watch?v=D0eEcfnVuYg\n",
      "55:55\n",
      "Мэддисон рассказывает как съездил к Хованскому, про ситуацию с каналом и играет Fallout New Vegas\n",
      "342K views\n",
      "3 months ago https://www.youtube.com/watch?v=DnqRuxZoS3I\n",
      "37:23\n",
      "Мэддисон выжил в реальности и в Fallout 4 #8 Финал\n",
      "187K views\n",
      "3 months ago https://www.youtube.com/watch?v=VPqkJ6_rPuc\n",
      "42:29\n",
      "Мэддисон хайпует выживая в Fallout 4 #7\n",
      "145K views\n",
      "3 months ago https://www.youtube.com/watch?v=hdAFOuTnT9Y\n"
     ]
    }
   ],
   "source": [
    "for x in video_preview:\n",
    "    link = x.find_elements_by_id('video-title')\n",
    "    assert len(link) == 1, \"links number are not equal to 1 for video\"\n",
    "    link = link[0].get_attribute('href')\n",
    "    print(x.text, link)"
   ]
  },
  {
   "cell_type": "markdown",
   "id": "a2437a9c",
   "metadata": {},
   "source": [
    "# Scroll to get all videos"
   ]
  },
  {
   "cell_type": "code",
   "execution_count": 503,
   "id": "b9988d99",
   "metadata": {},
   "outputs": [],
   "source": [
    "from selenium.webdriver.common.action_chains import ActionChains"
   ]
  },
  {
   "cell_type": "code",
   "execution_count": 504,
   "id": "a98d11e6",
   "metadata": {},
   "outputs": [],
   "source": [
    "    from selenium.webdriver.common.keys import Keys"
   ]
  },
  {
   "cell_type": "code",
   "execution_count": 505,
   "id": "3cff2a85",
   "metadata": {},
   "outputs": [],
   "source": [
    "driver.get(\"https://www.youtube.com/c/MadHighlights/videos\")"
   ]
  },
  {
   "cell_type": "code",
   "execution_count": 506,
   "id": "7be40d0b",
   "metadata": {},
   "outputs": [],
   "source": [
    "import time"
   ]
  },
  {
   "cell_type": "code",
   "execution_count": 508,
   "id": "440d3748",
   "metadata": {},
   "outputs": [
    {
     "name": "stderr",
     "output_type": "stream",
     "text": [
      "/tmp/ipykernel_1120332/3837978472.py:2: DeprecationWarning: find_element_by_xpath is deprecated. Please use find_element(by=By.XPATH, value=xpath) instead\n",
      "  element = driver.find_element_by_xpath(xpath) # the element you want to scroll to\n"
     ]
    }
   ],
   "source": [
    "xpath = '//*[@id=\"contents\"]'\n",
    "element = driver.find_element_by_xpath(xpath) # the element you want to scroll to "
   ]
  },
  {
   "cell_type": "code",
   "execution_count": 509,
   "id": "fa5e38ea",
   "metadata": {},
   "outputs": [
    {
     "name": "stderr",
     "output_type": "stream",
     "text": [
      "/tmp/ipykernel_1120332/1628361123.py:4: DeprecationWarning: find_element_by_tag_name is deprecated. Please use find_element(by=By.TAG_NAME, value=name) instead\n",
      "  driver.find_element_by_tag_name('body').send_keys(Keys.END) # triggers AJAX request to load more users. observed that loading 10 users at a time.\n"
     ]
    },
    {
     "name": "stdout",
     "output_type": "stream",
     "text": [
      "0 0\n",
      "0 707\n",
      "707 1787\n",
      "1787 2867\n",
      "2867 3947\n",
      "3947 5027\n",
      "5027 6107\n",
      "6107 7187\n",
      "7187 8267\n",
      "8267 9347\n",
      "9347 10427\n",
      "10427 11507\n",
      "11507 12587\n",
      "12587 13667\n",
      "13667 14747\n",
      "14747 15827\n",
      "15827 16907\n",
      "16907 17987\n",
      "17987 19067\n",
      "19067 20189\n",
      "20189 21227\n",
      "21227 22307\n",
      "22307 23387\n",
      "23387 24467\n",
      "24467 25547\n",
      "25547 26627\n",
      "26627 27707\n",
      "27707 28787\n",
      "28787 29867\n",
      "29867 30947\n",
      "30947 32052\n",
      "32052 33107\n",
      "33107 34187\n",
      "34187 35451\n",
      "35451 35855\n",
      "35855 35855\n"
     ]
    }
   ],
   "source": [
    "prev_page_pos = 0\n",
    "while True:\n",
    "    #driver.execute_script(\"window.scrollTo(0,document.body.scrollHeight)\")\n",
    "    driver.find_element_by_tag_name('body').send_keys(Keys.END) # triggers AJAX request to load more users. observed that loading 10 users at a time.\n",
    "    new_page_pos = str(driver.execute_script('return window.pageYOffset;'))\n",
    "    print(prev_page_pos, new_page_pos)\n",
    "    if prev_page_pos == new_page_pos:\n",
    "        break\n",
    "    prev_page_pos = new_page_pos\n",
    "    time.sleep(1)"
   ]
  },
  {
   "cell_type": "markdown",
   "id": "ace93390",
   "metadata": {},
   "source": [
    "# close"
   ]
  },
  {
   "cell_type": "code",
   "execution_count": null,
   "id": "7a7b0f18",
   "metadata": {},
   "outputs": [],
   "source": []
  },
  {
   "cell_type": "code",
   "execution_count": 315,
   "id": "d3847a21",
   "metadata": {},
   "outputs": [
    {
     "ename": "InvalidSessionIdException",
     "evalue": "Message: Tried to run command without establishing a connection\n",
     "output_type": "error",
     "traceback": [
      "\u001b[0;31m---------------------------------------------------------------------------\u001b[0m",
      "\u001b[0;31mInvalidSessionIdException\u001b[0m                 Traceback (most recent call last)",
      "\u001b[0;32m/tmp/ipykernel_1120332/1989200105.py\u001b[0m in \u001b[0;36m<module>\u001b[0;34m\u001b[0m\n\u001b[0;32m----> 1\u001b[0;31m \u001b[0mdriver\u001b[0m\u001b[0;34m.\u001b[0m\u001b[0mclose\u001b[0m\u001b[0;34m(\u001b[0m\u001b[0;34m)\u001b[0m \u001b[0;31m#?\u001b[0m\u001b[0;34m\u001b[0m\u001b[0;34m\u001b[0m\u001b[0m\n\u001b[0m\u001b[1;32m      2\u001b[0m \u001b[0mdriver\u001b[0m\u001b[0;34m.\u001b[0m\u001b[0mquit\u001b[0m\u001b[0;34m(\u001b[0m\u001b[0;34m)\u001b[0m\u001b[0;34m\u001b[0m\u001b[0;34m\u001b[0m\u001b[0m\n",
      "\u001b[0;32m~/anaconda3/lib/python3.8/site-packages/selenium/webdriver/remote/webdriver.py\u001b[0m in \u001b[0;36mclose\u001b[0;34m(self)\u001b[0m\n\u001b[1;32m    941\u001b[0m                 \u001b[0mdriver\u001b[0m\u001b[0;34m.\u001b[0m\u001b[0mclose\u001b[0m\u001b[0;34m(\u001b[0m\u001b[0;34m)\u001b[0m\u001b[0;34m\u001b[0m\u001b[0;34m\u001b[0m\u001b[0m\n\u001b[1;32m    942\u001b[0m         \"\"\"\n\u001b[0;32m--> 943\u001b[0;31m         \u001b[0mself\u001b[0m\u001b[0;34m.\u001b[0m\u001b[0mexecute\u001b[0m\u001b[0;34m(\u001b[0m\u001b[0mCommand\u001b[0m\u001b[0;34m.\u001b[0m\u001b[0mCLOSE\u001b[0m\u001b[0;34m)\u001b[0m\u001b[0;34m\u001b[0m\u001b[0;34m\u001b[0m\u001b[0m\n\u001b[0m\u001b[1;32m    944\u001b[0m \u001b[0;34m\u001b[0m\u001b[0m\n\u001b[1;32m    945\u001b[0m     \u001b[0;32mdef\u001b[0m \u001b[0mquit\u001b[0m\u001b[0;34m(\u001b[0m\u001b[0mself\u001b[0m\u001b[0;34m)\u001b[0m \u001b[0;34m->\u001b[0m \u001b[0;32mNone\u001b[0m\u001b[0;34m:\u001b[0m\u001b[0;34m\u001b[0m\u001b[0;34m\u001b[0m\u001b[0m\n",
      "\u001b[0;32m~/anaconda3/lib/python3.8/site-packages/selenium/webdriver/remote/webdriver.py\u001b[0m in \u001b[0;36mexecute\u001b[0;34m(self, driver_command, params)\u001b[0m\n\u001b[1;32m    428\u001b[0m         \u001b[0mresponse\u001b[0m \u001b[0;34m=\u001b[0m \u001b[0mself\u001b[0m\u001b[0;34m.\u001b[0m\u001b[0mcommand_executor\u001b[0m\u001b[0;34m.\u001b[0m\u001b[0mexecute\u001b[0m\u001b[0;34m(\u001b[0m\u001b[0mdriver_command\u001b[0m\u001b[0;34m,\u001b[0m \u001b[0mparams\u001b[0m\u001b[0;34m)\u001b[0m\u001b[0;34m\u001b[0m\u001b[0;34m\u001b[0m\u001b[0m\n\u001b[1;32m    429\u001b[0m         \u001b[0;32mif\u001b[0m \u001b[0mresponse\u001b[0m\u001b[0;34m:\u001b[0m\u001b[0;34m\u001b[0m\u001b[0;34m\u001b[0m\u001b[0m\n\u001b[0;32m--> 430\u001b[0;31m             \u001b[0mself\u001b[0m\u001b[0;34m.\u001b[0m\u001b[0merror_handler\u001b[0m\u001b[0;34m.\u001b[0m\u001b[0mcheck_response\u001b[0m\u001b[0;34m(\u001b[0m\u001b[0mresponse\u001b[0m\u001b[0;34m)\u001b[0m\u001b[0;34m\u001b[0m\u001b[0;34m\u001b[0m\u001b[0m\n\u001b[0m\u001b[1;32m    431\u001b[0m             response['value'] = self._unwrap_value(\n\u001b[1;32m    432\u001b[0m                 response.get('value', None))\n",
      "\u001b[0;32m~/anaconda3/lib/python3.8/site-packages/selenium/webdriver/remote/errorhandler.py\u001b[0m in \u001b[0;36mcheck_response\u001b[0;34m(self, response)\u001b[0m\n\u001b[1;32m    245\u001b[0m                 \u001b[0malert_text\u001b[0m \u001b[0;34m=\u001b[0m \u001b[0mvalue\u001b[0m\u001b[0;34m[\u001b[0m\u001b[0;34m'alert'\u001b[0m\u001b[0;34m]\u001b[0m\u001b[0;34m.\u001b[0m\u001b[0mget\u001b[0m\u001b[0;34m(\u001b[0m\u001b[0;34m'text'\u001b[0m\u001b[0;34m)\u001b[0m\u001b[0;34m\u001b[0m\u001b[0;34m\u001b[0m\u001b[0m\n\u001b[1;32m    246\u001b[0m             \u001b[0;32mraise\u001b[0m \u001b[0mexception_class\u001b[0m\u001b[0;34m(\u001b[0m\u001b[0mmessage\u001b[0m\u001b[0;34m,\u001b[0m \u001b[0mscreen\u001b[0m\u001b[0;34m,\u001b[0m \u001b[0mstacktrace\u001b[0m\u001b[0;34m,\u001b[0m \u001b[0malert_text\u001b[0m\u001b[0;34m)\u001b[0m  \u001b[0;31m# type: ignore[call-arg]  # mypy is not smart enough here\u001b[0m\u001b[0;34m\u001b[0m\u001b[0;34m\u001b[0m\u001b[0m\n\u001b[0;32m--> 247\u001b[0;31m         \u001b[0;32mraise\u001b[0m \u001b[0mexception_class\u001b[0m\u001b[0;34m(\u001b[0m\u001b[0mmessage\u001b[0m\u001b[0;34m,\u001b[0m \u001b[0mscreen\u001b[0m\u001b[0;34m,\u001b[0m \u001b[0mstacktrace\u001b[0m\u001b[0;34m)\u001b[0m\u001b[0;34m\u001b[0m\u001b[0;34m\u001b[0m\u001b[0m\n\u001b[0m\u001b[1;32m    248\u001b[0m \u001b[0;34m\u001b[0m\u001b[0m\n\u001b[1;32m    249\u001b[0m     \u001b[0;32mdef\u001b[0m \u001b[0m_value_or_default\u001b[0m\u001b[0;34m(\u001b[0m\u001b[0mself\u001b[0m\u001b[0;34m,\u001b[0m \u001b[0mobj\u001b[0m\u001b[0;34m:\u001b[0m \u001b[0mMapping\u001b[0m\u001b[0;34m[\u001b[0m\u001b[0m_KT\u001b[0m\u001b[0;34m,\u001b[0m \u001b[0m_VT\u001b[0m\u001b[0;34m]\u001b[0m\u001b[0;34m,\u001b[0m \u001b[0mkey\u001b[0m\u001b[0;34m:\u001b[0m \u001b[0m_KT\u001b[0m\u001b[0;34m,\u001b[0m \u001b[0mdefault\u001b[0m\u001b[0;34m:\u001b[0m \u001b[0m_VT\u001b[0m\u001b[0;34m)\u001b[0m \u001b[0;34m->\u001b[0m \u001b[0m_VT\u001b[0m\u001b[0;34m:\u001b[0m\u001b[0;34m\u001b[0m\u001b[0;34m\u001b[0m\u001b[0m\n",
      "\u001b[0;31mInvalidSessionIdException\u001b[0m: Message: Tried to run command without establishing a connection\n"
     ]
    }
   ],
   "source": [
    "driver.close() #?\n",
    "driver.quit()"
   ]
  },
  {
   "cell_type": "code",
   "execution_count": null,
   "id": "a193d1be",
   "metadata": {},
   "outputs": [],
   "source": []
  }
 ],
 "metadata": {
  "kernelspec": {
   "display_name": "Python 3 (ipykernel)",
   "language": "python",
   "name": "python3"
  },
  "language_info": {
   "codemirror_mode": {
    "name": "ipython",
    "version": 3
   },
   "file_extension": ".py",
   "mimetype": "text/x-python",
   "name": "python",
   "nbconvert_exporter": "python",
   "pygments_lexer": "ipython3",
   "version": "3.8.3"
  }
 },
 "nbformat": 4,
 "nbformat_minor": 5
}
